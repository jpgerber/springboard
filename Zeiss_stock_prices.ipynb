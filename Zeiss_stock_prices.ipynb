{
 "cells": [
  {
   "cell_type": "markdown",
   "metadata": {},
   "source": [
    "API Mini-project - Inspection of Carl-Zeiss Meditec stocks (working with APIs)"
   ]
  },
  {
   "cell_type": "code",
   "execution_count": 67,
   "metadata": {},
   "outputs": [],
   "source": [
    "# First, import the relevant modules and my API key\n",
    "import requests\n",
    "import collections\n",
    "API_KEY = 'GAV-UBQE8Hxx5BE9XkTj'"
   ]
  },
  {
   "cell_type": "markdown",
   "metadata": {},
   "source": [
    "These are your tasks for this mini project:\n",
    "\n",
    "1. Collect data from the Franfurt Stock Exchange, for the ticker AFX_X, for the whole year 2017 (keep in mind that the date format is YYYY-MM-DD).\n",
    "2. Convert the returned JSON object into a Python dictionary.\n",
    "3. Calculate what the highest and lowest opening prices were for the stock in this period.\n",
    "4. What was the largest change in any one day (based on High and Low price)?\n",
    "5. What was the largest change between any two days (based on Closing Price)?\n",
    "6. What was the average daily trading volume during this year?\n",
    "7. What was the median trading volume during this year."
   ]
  },
  {
   "cell_type": "markdown",
   "metadata": {},
   "source": [
    "Tasks 1 & 2. Extract the data and store as a dictionary"
   ]
  },
  {
   "cell_type": "code",
   "execution_count": 68,
   "metadata": {},
   "outputs": [],
   "source": [
    "# 1. Collect data\n",
    "#Construct the body ofAPI call, involving the right database & dataset, followed by the query, then my API key\n",
    "dataset = 'https://www.quandl.com/api/v3/datasets/FSE/AFX_X/data.json'\n",
    "query = '?&start_date=2017-01-01&end_date=2017-12-31&api_key='\n",
    "API_call = dataset + query + API_KEY\n",
    "# Then make the request\n",
    "r = requests.get(API_call)\n",
    "#2. Now convert this into a Python dictionary (using the json method given r is a requests object)\n",
    "data_dict = r.json()\n",
    "# To make the rest easy, let's extract the data from the dictionary\n",
    "daily_data = data_dict['dataset_data']['data']\n"
   ]
  },
  {
   "cell_type": "markdown",
   "metadata": {},
   "source": [
    "3. Calculating the minimum and maximum opening prices across the year"
   ]
  },
  {
   "cell_type": "code",
   "execution_count": 69,
   "metadata": {},
   "outputs": [
    {
     "name": "stdout",
     "output_type": "stream",
     "text": [
      "The minimum opening price was 34.0 and the maximum opening price was 53.11\n"
     ]
    }
   ],
   "source": [
    "#(It would be better to extract keys and values and use pandas)\n",
    "# I also thought about a lambda function but the number of Nones in the lists made that a bit frustrating\n",
    "\n",
    "# Extract the opening prices\n",
    "open_prices = [sublist[1] for sublist in daily_data if sublist[1] != None]\n",
    "# Minimum & maximum\n",
    "min_opening = min(open_prices)\n",
    "max_opening = max(open_prices)\n",
    "# print the answer\n",
    "print('The minimum opening price was ' + str(min_opening) + ' and the maximum opening price was ' + str(max_opening))"
   ]
  },
  {
   "cell_type": "markdown",
   "metadata": {},
   "source": [
    "4. Calculating the largest daily change"
   ]
  },
  {
   "cell_type": "code",
   "execution_count": 70,
   "metadata": {},
   "outputs": [
    {
     "name": "stdout",
     "output_type": "stream",
     "text": [
      "The maximum daily change was 2.81\n"
     ]
    }
   ],
   "source": [
    "# Well, we still have that list of lists and can iterate over it to get the daily changes\n",
    "daily_changes = [sublist[2] - sublist[3] for sublist in daily_data if ((sublist[2] != None)\n",
    "                 & (sublist[3] != None))]\n",
    "print('The maximum daily change was ' + str(round(max(daily_changes),2)))"
   ]
  },
  {
   "cell_type": "markdown",
   "metadata": {},
   "source": [
    "5. Find the largest change between subsequent days"
   ]
  },
  {
   "cell_type": "code",
   "execution_count": 82,
   "metadata": {},
   "outputs": [
    {
     "name": "stdout",
     "output_type": "stream",
     "text": [
      "The largest change in closing price between two days was 1.72\n"
     ]
    }
   ],
   "source": [
    "#5. Extract the daily closing prices and loop this one, I think\n",
    "# This one is tricky because it requires a comparison between sublists so\n",
    "# the simplest list comprehension doesn't work. Instead, need to iterate over dictionary\n",
    "\n",
    "closing_price_change = [daily_data[x-1][4] - daily_data[x][4] for x in range(1, len(daily_data)) if \n",
    "                        (daily_data[x-1][4] != None) & (daily_data[x][4] != None)]\n",
    "print('The largest change in closing price between two days was ' + str(round(max(closing_price_change), 2)))\n"
   ]
  },
  {
   "cell_type": "markdown",
   "metadata": {},
   "source": [
    "6. Average trading volume. "
   ]
  },
  {
   "cell_type": "code",
   "execution_count": 92,
   "metadata": {},
   "outputs": [
    {
     "name": "stdout",
     "output_type": "stream",
     "text": [
      "The average trading volume was 89124.34\n"
     ]
    }
   ],
   "source": [
    "# Extract the trading volume series\n",
    "trading_volumes = [sublist[6] for sublist in daily_data if sublist[6] != None]\n",
    "# Making the average and printing it\n",
    "average = sum(trading_volumes)/len(trading_volumes)\n",
    "# Now print it out\n",
    "print('The average trading volume was ' + str(round(average, 2)))\n"
   ]
  },
  {
   "cell_type": "markdown",
   "metadata": {},
   "source": [
    "7. Median trading volume"
   ]
  },
  {
   "cell_type": "code",
   "execution_count": 97,
   "metadata": {},
   "outputs": [
    {
     "name": "stdout",
     "output_type": "stream",
     "text": [
      "The median trading volume was 76286.0\n"
     ]
    }
   ],
   "source": [
    "# Make a quick median function\n",
    "def median(list):\n",
    "    middle = len(list) // 2\n",
    "    if len(list) % 2 == 1:\n",
    "        med = sorted(list)[middle]\n",
    "    elif len(list) % 2 == 0:\n",
    "        med = (sorted(list)[middle -1] + sorted(list)[middle]) /2        \n",
    "    return med\n",
    "\n",
    "# We extracted the trading volumes above so let's just reuse that for getting the median\n",
    "median_tradingvolume = median(trading_volumes)\n",
    "# print the median\n",
    "print('The median trading volume was ' + str(round(median_tradingvolume, 2)))"
   ]
  }
 ],
 "metadata": {
  "kernelspec": {
   "display_name": "Python 3",
   "language": "python",
   "name": "python3"
  },
  "language_info": {
   "codemirror_mode": {
    "name": "ipython",
    "version": 3
   },
   "file_extension": ".py",
   "mimetype": "text/x-python",
   "name": "python",
   "nbconvert_exporter": "python",
   "pygments_lexer": "ipython3",
   "version": "3.7.3"
  }
 },
 "nbformat": 4,
 "nbformat_minor": 2
}
