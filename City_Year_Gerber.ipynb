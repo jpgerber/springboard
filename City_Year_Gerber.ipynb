{
 "cells": [
  {
   "cell_type": "markdown",
   "metadata": {},
   "source": [
    "## City Life Case Study - Calculations (J. P. Gerber)\n",
    "My overall approach was to run a Monte Carlo simulation."
   ]
  },
  {
   "cell_type": "code",
   "execution_count": 73,
   "metadata": {},
   "outputs": [],
   "source": [
    "import scipy.stats as s\n",
    "import math as m\n",
    "import pandas as pd\n",
    "import numpy as np\n",
    "\n",
    "def LogNormParam(x, y):\n",
    "    ''' This function takes the 5th, 95th percentile values for a lognormal curve and returns\n",
    "    the underlying normal sigma and mu'''\n",
    "    #(calculate the parameters of normal curve by taking the log of the quantiles first)\n",
    "    c_10 = m.log(x)\n",
    "    c_90 = m.log(y)\n",
    "    # Curve is symmetrical\n",
    "    c_mean = (c_10 + c_90)/2\n",
    "    # 5th/95th percentiles are at +- 1.645sd & symmetrical\n",
    "    c_sd = (c_mean-c_10)/1.645\n",
    "    return (c_mean, c_sd)"
   ]
  },
  {
   "cell_type": "code",
   "execution_count": 3,
   "metadata": {},
   "outputs": [],
   "source": [
    "# 1. Let's specify all the two competing distributions\n",
    "## CORPORATE FIRST ##\n",
    "# Contacts = uniform from 15-25\n",
    "c_contacts = [15,25]\n",
    "c_contacts = s.uniform.rvs(loc=15, scale=10)\n",
    "# Conversion rate = 25%\n",
    "c_conversion = .25\n",
    "# Donation amount = Lognormal from $50,000 to $1m (the tricky one)\n",
    "c_don_mu, c_don_sigma = LogNormParam(50000,1000000)\n",
    "c_donation = np.random.lognormal(c_don_mu, c_don_sigma)\n",
    "# Life of grant is 100% funding from Poisson with lambda = 2\n",
    "c_length = 2\n",
    "\n",
    "## Red Jacket parameters\n",
    "# Contacts = uniform from 200-500\n",
    "r_contacts = [200,500]\n",
    "#print(s.uniform.rvs(r_contacts[0], r_contacts[1] - r_contacts[0]))\n",
    "# Conversion rate = 50%\n",
    "r_conversion = .50\n",
    "# Donation amount = Lognormal from $5,000 to $50,000\n",
    "r_don_mu, r_don_sigma = LogNormParam(5000,50000)\n",
    "r_donation = np.random.lognormal(r_don_mu, r_don_sigma)\n",
    "# Life of donation is 100% then 50% then 10% in third year. This has an average longevity of\n",
    "#1.6 years but we will model as a normal distribution with a 90% CI (as per specifications)\n",
    "# with a lower limit of 1 year (because all donate in the first year)\n",
    "#r_length = normalwith mean of 1.6 and SD of -1.645SD = 0.6\n",
    "r_length_mu = 1.6\n",
    "r_length_sd = .6/1.645\n",
    "\n",
    " "
   ]
  },
  {
   "cell_type": "code",
   "execution_count": 4,
   "metadata": {},
   "outputs": [],
   "source": [
    "# 2. Basic formula for one development manager is\n",
    "'''manager_return = contacts * conversion * donationamount * length'''\n",
    "\n",
    "# 3. Monte Carlo of 10,000 samples for each of the two scenarios above\n",
    "\n",
    "def CorporateMonteCarlo(min_contacts, max_contacts, conversion, donation_mu, donation_sigma, length, size=10000):\n",
    "    '''This function takes parameters of distributions and returns Monte Carlo samples\n",
    "    The conversion rate is fixed. Min_contacts is an integer of the minimum required \n",
    "    contacts, max_contacts should be an integer with the desired maximum, and donationamount \n",
    "    will be a list containing the mean and standard deviation of the normal distribution \n",
    "    underlying the lognormal distribution. Those can be calculated with the LogNormParam \n",
    "    function defined above. Length requires the lambda function constant.'''\n",
    "    #3a Set up the matrix\n",
    "    mc_samples = np.empty(size)\n",
    "    length_samples = np.random.poisson(length, size)\n",
    "    #3b/c Populate the Monte Carlo samples via a loop and work out the estimated return\n",
    "    for i in range(size):\n",
    "        contacts = s.uniform.rvs(min_contacts, max_contacts - min_contacts)\n",
    "        donationamount = np.random.lognormal(donation_mu, donation_sigma)\n",
    "        mc_samples[i] = contacts * conversion * donationamount * length_samples[i]\n",
    "    \n",
    "    return mc_samples    \n",
    "\n",
    "def RedJacketMonteCarlo(min_contacts, max_contacts, conversion, donation_mu, donation_sigma, \n",
    "                        length_mu, length_sd, size=10000):\n",
    "    '''This function takes parameters of distributions and returns Monte Carlo samples\n",
    "    The conversion and length are fixed. Min_contacts is an integer of the minimum required \n",
    "    contacts, max_contacts should be an integer with the desired maximum, and donationamount \n",
    "    will be a list containing the mean and standard deviation of the normal distribution \n",
    "    underlying the lognormal distribution. Those can be calculated with the LogNormParam \n",
    "    function defined above. Length requires the lambda function constant.'''\n",
    "    #3a Set up the matrix\n",
    "    mc_samples = np.empty(size)\n",
    "    #3b/c Populate the Monte Carlo samples via a loop and work out the estimated return\n",
    "    for i in range(size):\n",
    "        length = 1.6\n",
    "        contacts = s.uniform.rvs(min_contacts, max_contacts - min_contacts)\n",
    "        donationamount = np.random.lognormal(donation_mu, donation_sigma)\n",
    "        length = np.random.normal(length_mu, length_sd)\n",
    "        mc_samples[i] = contacts * conversion * donationamount * length    \n",
    "    return mc_samples    \n",
    "\n",
    "# Call this on both corporate and Red Jacket donors\n",
    "c_mc = CorporateMonteCarlo(15, 25, c_conversion, c_don_mu, c_don_sigma, 5, size = 10000)\n",
    "r_mc = RedJacketMonteCarlo(200, 500, r_conversion, r_don_mu, r_don_sigma, r_length_mu,\n",
    "                           r_length_sd, size=10000)\n"
   ]
  },
  {
   "cell_type": "code",
   "execution_count": null,
   "metadata": {},
   "outputs": [],
   "source": []
  },
  {
   "cell_type": "markdown",
   "metadata": {},
   "source": [
    "Now we do some basic descriptive stats of our samples and a plot"
   ]
  },
  {
   "cell_type": "code",
   "execution_count": 71,
   "metadata": {
    "scrolled": true
   },
   "outputs": [
    {
     "name": "stdout",
     "output_type": "stream",
     "text": [
      "The mean for Corporate managers is $8,380,253 while the 90% confidence interval is from $843,200 to $26,718,362\n",
      "The mean for Red Jacket managers is $5,622,464 while the 90% confidence interval is from $1,102,194 to $15,223,260\n"
     ]
    }
   ],
   "source": [
    "# Define the mean and 90% CI for both groups\n",
    "c_mc_mean, c_mc_lowerCI, c_mc_upperCI = np.mean(c_mc), np.percentile(c_mc,5), np.percentile(c_mc,95)\n",
    "\n",
    "print('The mean for Corporate managers is $' + '{:,.0f}'.format(c_mc_mean) + \n",
    "      ' while the 90% confidence interval is from $' + '{:,.0f}'.format(c_mc_lowerCI) + ' to $' +\n",
    "      '{:,.0f}'.format(c_mc_upperCI))\n",
    "\n",
    "r_mc_mean, r_mc_lowerCI, r_mc_upperCI = np.mean(r_mc), np.percentile(r_mc,5), np.percentile(r_mc,95)\n",
    "\n",
    "print('The mean for Red Jacket managers is $' + '{:,.0f}'.format(r_mc_mean) + \n",
    "      ' while the 90% confidence interval is from $' + '{:,.0f}'.format(r_mc_lowerCI) + ' to $' +\n",
    "      '{:,.0f}'.format(r_mc_upperCI))\n",
    "\n",
    "#3d Do a histogram of each (use code from Bayesian book as sample)\n",
    "\n",
    "%matplotlib inline\n",
    "from IPython.core.pylabtools import figsize\n",
    "from matplotlib import pyplot as plt\n",
    "import seaborn as sns\n",
    "\n"
   ]
  },
  {
   "cell_type": "code",
   "execution_count": 70,
   "metadata": {},
   "outputs": [
    {
     "data": {
      "image/png": "[encoded data removed]",
      "text/plain": [
       "<Figure size 1008x252 with 1 Axes>"
      ]
     },
     "metadata": {
      "needs_background": "light"
     },
     "output_type": "display_data"
    }
   ],
   "source": [
    "r_mc_low = r_mc/1000000\n",
    "c_mc_low = c_mc/1000000\n",
    "c_mc_mlo, c_mc_lowCIlo, c_mc_upCIlo = c_mc_mean/1000000, c_mc_lowerCI/1000000, c_mc_upperCI/1000000\n",
    "r_mc_mlo, r_mc_lowCIlo, r_mc_upCIlo = r_mc_mean/1000000, r_mc_lowerCI/1000000, r_mc_upperCI/1000000\n",
    "\n",
    "fig = plt.gcf()\n",
    "fig.set_size_inches(14, 3.5)\n",
    "plt.gcf().subplots_adjust(bottom=0.15)\n",
    "_ = sns.kdeplot(r_mc_low, color='r', bw=.01, label = 'RJS')\n",
    "_ = sns.kdeplot(c_mc_low, color='blue', bw=.01, label = 'Corporate')\n",
    "_ = plt.axvline(c_mc_mlo, color='blue', linestyle='-')\n",
    "_ = plt.axvline(r_mc_mlo, color='r', linestyle='-')\n",
    "_ = plt.axvline(c_mc_lowCIlo, color='blue', linestyle='--')\n",
    "_ = plt.axvline(r_mc_lowCIlo, color='r', linestyle='--')\n",
    "_ = plt.axvline(c_mc_upCIlo, color='blue', linestyle='--')\n",
    "_ = plt.axvline(r_mc_upCIlo, color='r', linestyle='--')\n",
    "_ = plt.xlim([0,40])\n",
    "_ = plt.ylim([0,.20])\n",
    "_ = plt.title('Probability of returns for Corporate and RJS managers', fontsize=14)\n",
    "_ = plt.legend(loc='upper right', fontsize=14)\n",
    "_ = plt.xticks(fontsize=14)\n",
    "_ = plt.xlabel('Possible return (in $M)', fontsize=14)\n",
    "_ = plt.ylabel('p', fontsize=14)\n",
    "_ = plt.yticks([])\n",
    "_ = plt.margins(1)\n",
    "plt.savefig('SeabornFigs.png')\n",
    "plt.show()\n"
   ]
  },
  {
   "cell_type": "code",
   "execution_count": null,
   "metadata": {},
   "outputs": [],
   "source": []
  }
 ],
 "metadata": {
  "kernelspec": {
   "display_name": "Python 3",
   "language": "python",
   "name": "python3"
  },
  "language_info": {
   "codemirror_mode": {
    "name": "ipython",
    "version": 3
   },
   "file_extension": ".py",
   "mimetype": "text/x-python",
   "name": "python",
   "nbconvert_exporter": "python",
   "pygments_lexer": "ipython3",
   "version": "3.7.3"
  }
 },
 "nbformat": 4,
 "nbformat_minor": 2
}
