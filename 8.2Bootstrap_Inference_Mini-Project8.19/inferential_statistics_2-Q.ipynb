{
 "cells": [
  {
   "cell_type": "markdown",
   "metadata": {},
   "source": [
    "# Bootstrapping mini-project"
   ]
  },
  {
   "cell_type": "markdown",
   "metadata": {},
   "source": [
    "## Introduction"
   ]
  },
  {
   "cell_type": "markdown",
   "metadata": {},
   "source": [
    "In this mini-project, I perform some bootstrapping analyses of a medical charges dataset. I first import the correct modules and datasets and then move on to bootstapping"
   ]
  },
  {
   "cell_type": "code",
   "execution_count": 1,
   "metadata": {},
   "outputs": [],
   "source": [
    "import pandas as pd\n",
    "import numpy as np\n",
    "from numpy.random import seed\n",
    "import matplotlib.pyplot as plt"
   ]
  },
  {
   "cell_type": "code",
   "execution_count": 2,
   "metadata": {},
   "outputs": [],
   "source": [
    "med_charges = pd.read_csv('data/insurance2.csv')"
   ]
  },
  {
   "cell_type": "code",
   "execution_count": 3,
   "metadata": {},
   "outputs": [
    {
     "data": {
      "text/html": [
       "<div>\n",
       "<style scoped>\n",
       "    .dataframe tbody tr th:only-of-type {\n",
       "        vertical-align: middle;\n",
       "    }\n",
       "\n",
       "    .dataframe tbody tr th {\n",
       "        vertical-align: top;\n",
       "    }\n",
       "\n",
       "    .dataframe thead th {\n",
       "        text-align: right;\n",
       "    }\n",
       "</style>\n",
       "<table border=\"1\" class=\"dataframe\">\n",
       "  <thead>\n",
       "    <tr style=\"text-align: right;\">\n",
       "      <th></th>\n",
       "      <th>age</th>\n",
       "      <th>sex</th>\n",
       "      <th>bmi</th>\n",
       "      <th>children</th>\n",
       "      <th>smoker</th>\n",
       "      <th>region</th>\n",
       "      <th>charges</th>\n",
       "      <th>insuranceclaim</th>\n",
       "    </tr>\n",
       "  </thead>\n",
       "  <tbody>\n",
       "    <tr>\n",
       "      <th>0</th>\n",
       "      <td>19</td>\n",
       "      <td>0</td>\n",
       "      <td>27.900</td>\n",
       "      <td>0</td>\n",
       "      <td>1</td>\n",
       "      <td>3</td>\n",
       "      <td>16884.92400</td>\n",
       "      <td>1</td>\n",
       "    </tr>\n",
       "    <tr>\n",
       "      <th>1</th>\n",
       "      <td>18</td>\n",
       "      <td>1</td>\n",
       "      <td>33.770</td>\n",
       "      <td>1</td>\n",
       "      <td>0</td>\n",
       "      <td>2</td>\n",
       "      <td>1725.55230</td>\n",
       "      <td>1</td>\n",
       "    </tr>\n",
       "    <tr>\n",
       "      <th>2</th>\n",
       "      <td>28</td>\n",
       "      <td>1</td>\n",
       "      <td>33.000</td>\n",
       "      <td>3</td>\n",
       "      <td>0</td>\n",
       "      <td>2</td>\n",
       "      <td>4449.46200</td>\n",
       "      <td>0</td>\n",
       "    </tr>\n",
       "    <tr>\n",
       "      <th>3</th>\n",
       "      <td>33</td>\n",
       "      <td>1</td>\n",
       "      <td>22.705</td>\n",
       "      <td>0</td>\n",
       "      <td>0</td>\n",
       "      <td>1</td>\n",
       "      <td>21984.47061</td>\n",
       "      <td>0</td>\n",
       "    </tr>\n",
       "    <tr>\n",
       "      <th>4</th>\n",
       "      <td>32</td>\n",
       "      <td>1</td>\n",
       "      <td>28.880</td>\n",
       "      <td>0</td>\n",
       "      <td>0</td>\n",
       "      <td>1</td>\n",
       "      <td>3866.85520</td>\n",
       "      <td>1</td>\n",
       "    </tr>\n",
       "  </tbody>\n",
       "</table>\n",
       "</div>"
      ],
      "text/plain": [
       "   age  sex     bmi  children  smoker  region      charges  insuranceclaim\n",
       "0   19    0  27.900         0       1       3  16884.92400               1\n",
       "1   18    1  33.770         1       0       2   1725.55230               1\n",
       "2   28    1  33.000         3       0       2   4449.46200               0\n",
       "3   33    1  22.705         0       0       1  21984.47061               0\n",
       "4   32    1  28.880         0       0       1   3866.85520               1"
      ]
     },
     "execution_count": 3,
     "metadata": {},
     "output_type": "execute_result"
    }
   ],
   "source": [
    "med_charges.head()"
   ]
  },
  {
   "cell_type": "markdown",
   "metadata": {},
   "source": [
    "__Q:__ Use bootstrap sampling to estimate the same 95% confidence interval lower limit as before."
   ]
  },
  {
   "cell_type": "markdown",
   "metadata": {},
   "source": [
    "__A:__ The lower 95% CI is 12724"
   ]
  },
  {
   "cell_type": "code",
   "execution_count": 4,
   "metadata": {},
   "outputs": [
    {
     "name": "stdout",
     "output_type": "stream",
     "text": [
      "The lower 95% CI is 12724\n"
     ]
    }
   ],
   "source": [
    "np.random.seed(47)\n",
    "N_rep = 10000\n",
    "\n",
    "# First, define a bootstrapping function.\n",
    "def draw_bs_reps(data, func, size=1):\n",
    "    \"\"\"Draw bootstrap replicates.\"\"\"\n",
    "\n",
    "    # Initialize array of replicates: bs_replicates\n",
    "    bs_replicates = np.empty(size)\n",
    "\n",
    "    # Generate replicates\n",
    "    for i in range(size):\n",
    "        bs_replicates[i] = func(np.random.choice(data, size=len(data)))\n",
    "\n",
    "    return bs_replicates\n",
    "\n",
    "bs_sample = draw_bs_reps(med_charges['charges'], np.mean, 10000)\n",
    "\n",
    "CI_lower = np.percentile(bs_sample, 5)\n",
    "\n",
    "print('The lower 95% CI is ' '{:.0f}'.format(CI_lower))\n",
    "\n"
   ]
  },
  {
   "cell_type": "markdown",
   "metadata": {},
   "source": [
    "__Q:__ Calculate the 95% confidence interval for the difference between the standard deviations of insurance and non-insurance claim charges (insured - non-insured). Calculate the differences over 10000 replicates. Plot the histogram of values and mark the locations of the percentiles. State the null and alternative hypothesis and comment on whether you would retain or reject the null hypothesis in this case and why."
   ]
  },
  {
   "cell_type": "markdown",
   "metadata": {},
   "source": [
    "__A:__ The null hypothesis is that the standard deviations do not differ. The alternative hypothesis is that the standard deviations differ (this is non-directional / two-tailed).\n",
    "As shown below, the 95% CI for the difference in standard deviations is [-$8506, -$6691] which does not contain zero. Nor do any of our bootstrap replicates have a value of 0 (max is -$5725). Thus, we would reject the null hypothesis.\n",
    "\n",
    "We note that the negative sign indicates that the uninsured have much larger standard deviations in charges than the insured.\n"
   ]
  },
  {
   "cell_type": "code",
   "execution_count": 5,
   "metadata": {},
   "outputs": [],
   "source": [
    "# We can use the bootstrapping function defined above but with a different statistic.\n",
    "\n",
    "# Bootstrap the standard deviation for both the insured and uninsured.\n",
    "boot_sd_insured = draw_bs_reps(med_charges['charges'][med_charges['insuranceclaim']==0], \n",
    "                               np.std, 10000)\n",
    "boot_sd_uninsured = draw_bs_reps(med_charges['charges'][med_charges['insuranceclaim']==1], \n",
    "                               np.std, 10000)\n",
    "\n",
    "# Then, construct the difference between the two resampled standard deviations.\n",
    "diff_boot_sd = boot_sd_insured - boot_sd_uninsured\n",
    "\n"
   ]
  },
  {
   "cell_type": "code",
   "execution_count": 6,
   "metadata": {},
   "outputs": [
    {
     "name": "stdout",
     "output_type": "stream",
     "text": [
      "The 95% CI was -8487, -6674\n",
      "The maximum value of the difference was -5922\n"
     ]
    }
   ],
   "source": [
    "# The CI is shown below\n",
    "lower_limit, upper_limit = np.percentile(diff_boot_sd, [2.5, 97.5])\n",
    "max_diff = max(diff_boot_sd)\n",
    "\n",
    "print('The 95% CI was ' + '{:.0f}'.format(lower_limit) + ', ' + '{:.0f}'.format(upper_limit))\n",
    "print('The maximum value of the difference was ' + '{:.0f}'.format(max_diff))\n"
   ]
  },
  {
   "cell_type": "code",
   "execution_count": 7,
   "metadata": {},
   "outputs": [
    {
     "data": {
      "image/png": "[encoded data removed]",
      "text/plain": [
       "<Figure size 432x288 with 1 Axes>"
      ]
     },
     "metadata": {
      "needs_background": "light"
     },
     "output_type": "display_data"
    }
   ],
   "source": [
    "#Now we can plot those\n",
    "_ = plt.hist(diff_boot_sd, bins = 20, density=True)\n",
    "_ = plt.xlabel('Difference in standard deviation')\n",
    "_ = plt.ylabel('p')\n",
    "_ = plt.title('Distribution of the boostrapped difference in standard deviations')\n",
    "_ = plt.axvline(lower_limit, color='r', linestyle='--')\n",
    "_ = plt.axvline(upper_limit, color='r', linestyle='--')\n",
    "plt.show()\n"
   ]
  },
  {
   "cell_type": "markdown",
   "metadata": {},
   "source": [
    "## Confidence interval and p-value"
   ]
  },
  {
   "cell_type": "markdown",
   "metadata": {},
   "source": [
    "__Q:__ Perform a bootstrapped hypothesis test at the 5% significance level ($\\alpha = 0.05$) to calculate the p-value of the observed difference between insurance and non-insurance charges, state your null and alternative hypotheses and whether you retain or reject the null hypothesis for the given significance level."
   ]
  },
  {
   "cell_type": "markdown",
   "metadata": {},
   "source": [
    "__A:__ \n",
    "Ho: The mean charge for insured patients equals for mean for non-insured patients (equivalent to saying the group labeling makes no difference / is random).\n",
    "Ha: The mean charge for insured patients differs from the mean for non-insured patients (or the group labeling is more informative than expected by chance alone)\n",
    "\n",
    "This can be run as a permutation test. We assume that the labelling of insured and non-insured make no difference.\n",
    "\n",
    "We reject the null hypothesis, as p-value is"
   ]
  },
  {
   "cell_type": "code",
   "execution_count": 20,
   "metadata": {},
   "outputs": [
    {
     "name": "stdout",
     "output_type": "stream",
     "text": [
      "-7602.506384231368\n"
     ]
    }
   ],
   "source": [
    "# First, let's extract the two series to make the code cleaner\n",
    "insured_charges = med_charges['charges'][med_charges['insuranceclaim']==0]\n",
    "uninsured_charges = med_charges['charges'][med_charges['insuranceclaim']==1]\n",
    "#observed mean difference\n",
    "obs_mean_diff = np.mean(insured_charges) - np.mean(uninsured_charges)\n",
    "print(obs_mean_diff)"
   ]
  },
  {
   "cell_type": "code",
   "execution_count": 58,
   "metadata": {},
   "outputs": [
    {
     "name": "stdout",
     "output_type": "stream",
     "text": [
      "0.0\n"
     ]
    }
   ],
   "source": [
    "def draw_perm_reps(data_1, data_2, size=1):\n",
    "    \"\"\"Generate multiple permutation replicates. The function must take two values\"\"\"\n",
    "\n",
    "    # Initialize array of replicates and concatenate data\n",
    "    perm_replicates = np.empty(size)\n",
    "    data = np.concatenate((data_1, data_2))\n",
    "    # Generate permutation samples\n",
    "    \n",
    "    for i in range(size):\n",
    "        # Permute the concatenated array: permuted_data\n",
    "        permuted_data = np.random.permutation(data)\n",
    "\n",
    "        # Split the permuted array into two: perm_sample_1, perm_sample_2\n",
    "        perm_sample_1 = permuted_data[:len(data_1)]\n",
    "        perm_sample_2 = permuted_data[len(data_1):]\n",
    "\n",
    "        # Compute the test statistic\n",
    "        perm_replicates[i] = np.mean(perm_sample_1) - np.mean(perm_sample_2)\n",
    "\n",
    "    return perm_replicates\n",
    "\n",
    "permutation_reps = draw_perm_reps(insured_charges, uninsured_charges, 1000)\n",
    "left_p = np.sum(permutation_reps < obs_mean_diff)/len(permutation_reps)\n",
    "total_p = 2 * left_p\n",
    "print(total_p)"
   ]
  },
  {
   "cell_type": "code",
   "execution_count": null,
   "metadata": {},
   "outputs": [],
   "source": []
  },
  {
   "cell_type": "markdown",
   "metadata": {},
   "source": [
    "__Q:__ To put the above result in perspective, plot the histogram of your bootstrapped differences along with lines marking the locations of the observed difference. (Why would we plot more than one line, given that we only have one observed difference?)"
   ]
  },
  {
   "cell_type": "markdown",
   "metadata": {},
   "source": [
    "__A:__"
   ]
  },
  {
   "cell_type": "code",
   "execution_count": 64,
   "metadata": {},
   "outputs": [
    {
     "data": {
      "image/png": "[encoded data removed]",
      "text/plain": [
       "<Figure size 432x288 with 1 Axes>"
      ]
     },
     "metadata": {
      "needs_background": "light"
     },
     "output_type": "display_data"
    }
   ],
   "source": [
    "# calculate the CI\n",
    "lower_CI, upper_CI = np.percentile(permutation_reps, [2.5, 97.5])\n",
    "\n",
    "_ = plt.hist(permutation_reps, bins=20, density=True)\n",
    "_ = plt.axvline(obs_mean_diff, color='r')\n",
    "_ = plt.axvline(lower_CI, color='r', linestyle='--')\n",
    "_ = plt.axvline(upper_CI, color='r', linestyle='--')\n",
    "_ = plt.xlabel('Mean difference')\n",
    "_ = plt.ylabel('p')\n",
    "_ = plt.title('Distribution of mean differences from permutation test')\n",
    "plt.show()"
   ]
  },
  {
   "cell_type": "markdown",
   "metadata": {},
   "source": [
    "__Q:__ Compare your p-value above with that obtained using the _t_-test function in the previous assignment. Do you think you would want to try to perform enough bootstrap replicates to observe a random difference as large as that we did observe?"
   ]
  },
  {
   "cell_type": "markdown",
   "metadata": {},
   "source": [
    "__A:__ The values are essentially the same. The t-test revealed there was 1 chance in $10^{22}$ of the observed difference being a false positive, and we found that zero of our $10^{3}$ samples were in the reject region. I wouldn't want to perform the $10^{22}$ test because it would take too long!!"
   ]
  },
  {
   "cell_type": "markdown",
   "metadata": {},
   "source": [
    "__Q:__ Consider the two variants of the _t_-test we performed in the previous assignment. Which one would you use now?"
   ]
  },
  {
   "cell_type": "markdown",
   "metadata": {},
   "source": [
    "__A:__ These are all useful tests. The t-test with exact p-value gives a better estimate of the significance of the effect, but the permutation test takes better account of the skew in the data. Thus, I would prefer the permutation test. \n",
    "\n",
    "Note: Neither of the two tests listed above take into account the differing spread between insured and non-insured patients (see cell below). As such, it would be better to use Welch's t-test or a bootstrap on recentered samples to provide a better estimate."
   ]
  },
  {
   "cell_type": "code",
   "execution_count": 67,
   "metadata": {},
   "outputs": [
    {
     "name": "stdout",
     "output_type": "stream",
     "text": [
      "The SD of insured patients was 6441 and for noninsured was 14037\n"
     ]
    }
   ],
   "source": [
    "# Standard deviations of both samples\n",
    "sd_ins = np.std(insured_charges)\n",
    "sd_unins = np.std(uninsured_charges)\n",
    "print('The SD of insured patients was ' + '{:.0f}'.format(sd_ins) +' and for noninsured was ' +\n",
    "     '{:.0f}'.format(sd_unins))"
   ]
  },
  {
   "cell_type": "markdown",
   "metadata": {},
   "source": [
    "__Q:__ If, instead of being asked whether the means of two groups were different, you were working with an ad-recommender team who wanted to release a new recommendation algorithm, and you were looking at click-through rate both for the current algorithm (call it A) and from trials of their new algorithm (call it B), would you perform a two-sided test as above? What would be your null and alternative hypotheses and what would be the real-world consequence of rejecting the null hypothesis?"
   ]
  },
  {
   "cell_type": "markdown",
   "metadata": {},
   "source": [
    "__A:__ It depends on how effective the old algorithm is. If the old one is a complete failure, then we might like to know if the new one is better OR worse, necessitating a two-tail test. On the other hand, if the old algorithm is reasonably effective, a one-tailed right-hand test might be quite appropriate.\n",
    "\n",
    "In the latter case,\n",
    "Ho: The new algorithm has a click-through rate equivalent to the old algorithm\n",
    "Ha: The new algorithm is better than the old algorithm\n",
    "\n",
    "The real-world implication of rejecting the null is likely to be adoption of the new algorithm (all other things being equal)."
   ]
  },
  {
   "cell_type": "code",
   "execution_count": null,
   "metadata": {},
   "outputs": [],
   "source": []
  }
 ],
 "metadata": {
  "kernelspec": {
   "display_name": "Python 3",
   "language": "python",
   "name": "python3"
  },
  "language_info": {
   "codemirror_mode": {
    "name": "ipython",
    "version": 3
   },
   "file_extension": ".py",
   "mimetype": "text/x-python",
   "name": "python",
   "nbconvert_exporter": "python",
   "pygments_lexer": "ipython3",
   "version": "3.7.3"
  }
 },
 "nbformat": 4,
 "nbformat_minor": 2
}
